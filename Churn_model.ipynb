{
 "cells": [
  {
   "cell_type": "markdown",
   "metadata": {
    "colab_type": "text",
    "id": "view-in-github"
   },
   "source": [
    "<a href=\"https://colab.research.google.com/github/MOHAMED-ALIYAR/Airbnb_analysis/blob/main/Churn_model.ipynb\" target=\"_parent\"><img src=\"https://colab.research.google.com/assets/colab-badge.svg\" alt=\"Open In Colab\"/></a>"
   ]
  },
  {
   "cell_type": "code",
   "execution_count": 12,
   "metadata": {
    "id": "jyTdGEUTYEUD"
   },
   "outputs": [],
   "source": [
    "#import the dependecies\n",
    "\n",
    "import pandas as pd\n",
    "import numpy as np\n",
    "import matplotlib.pyplot as plt\n",
    "import seaborn as sns"
   ]
  },
  {
   "cell_type": "code",
   "execution_count": 13,
   "metadata": {
    "id": "p6Xm0-JYZALV"
   },
   "outputs": [],
   "source": [
    "df=pd.read_csv('/content/Churn_Modelling.csv')"
   ]
  },
  {
   "cell_type": "code",
   "execution_count": 14,
   "metadata": {
    "colab": {
     "base_uri": "https://localhost:8080/",
     "height": 226
    },
    "id": "Uu8yymZTZRBo",
    "outputId": "269e8a50-7289-4f51-9f0e-30ca21f956e8"
   },
   "outputs": [
    {
     "data": {
      "text/html": [
       "\n",
       "  <div id=\"df-2e350221-8e78-47ed-8b0b-a31f9427876e\" class=\"colab-df-container\">\n",
       "    <div>\n",
       "<style scoped>\n",
       "    .dataframe tbody tr th:only-of-type {\n",
       "        vertical-align: middle;\n",
       "    }\n",
       "\n",
       "    .dataframe tbody tr th {\n",
       "        vertical-align: top;\n",
       "    }\n",
       "\n",
       "    .dataframe thead th {\n",
       "        text-align: right;\n",
       "    }\n",
       "</style>\n",
       "<table border=\"1\" class=\"dataframe\">\n",
       "  <thead>\n",
       "    <tr style=\"text-align: right;\">\n",
       "      <th></th>\n",
       "      <th>RowNumber</th>\n",
       "      <th>CustomerId</th>\n",
       "      <th>Surname</th>\n",
       "      <th>CreditScore</th>\n",
       "      <th>Geography</th>\n",
       "      <th>Gender</th>\n",
       "      <th>Age</th>\n",
       "      <th>Tenure</th>\n",
       "      <th>Balance</th>\n",
       "      <th>NumOfProducts</th>\n",
       "      <th>HasCrCard</th>\n",
       "      <th>IsActiveMember</th>\n",
       "      <th>EstimatedSalary</th>\n",
       "      <th>Exited</th>\n",
       "    </tr>\n",
       "  </thead>\n",
       "  <tbody>\n",
       "    <tr>\n",
       "      <th>0</th>\n",
       "      <td>1</td>\n",
       "      <td>15634602</td>\n",
       "      <td>Hargrave</td>\n",
       "      <td>619</td>\n",
       "      <td>France</td>\n",
       "      <td>Female</td>\n",
       "      <td>42</td>\n",
       "      <td>2</td>\n",
       "      <td>0.00</td>\n",
       "      <td>1</td>\n",
       "      <td>1</td>\n",
       "      <td>1</td>\n",
       "      <td>101348.88</td>\n",
       "      <td>1</td>\n",
       "    </tr>\n",
       "    <tr>\n",
       "      <th>1</th>\n",
       "      <td>2</td>\n",
       "      <td>15647311</td>\n",
       "      <td>Hill</td>\n",
       "      <td>608</td>\n",
       "      <td>Spain</td>\n",
       "      <td>Female</td>\n",
       "      <td>41</td>\n",
       "      <td>1</td>\n",
       "      <td>83807.86</td>\n",
       "      <td>1</td>\n",
       "      <td>0</td>\n",
       "      <td>1</td>\n",
       "      <td>112542.58</td>\n",
       "      <td>0</td>\n",
       "    </tr>\n",
       "    <tr>\n",
       "      <th>2</th>\n",
       "      <td>3</td>\n",
       "      <td>15619304</td>\n",
       "      <td>Onio</td>\n",
       "      <td>502</td>\n",
       "      <td>France</td>\n",
       "      <td>Female</td>\n",
       "      <td>42</td>\n",
       "      <td>8</td>\n",
       "      <td>159660.80</td>\n",
       "      <td>3</td>\n",
       "      <td>1</td>\n",
       "      <td>0</td>\n",
       "      <td>113931.57</td>\n",
       "      <td>1</td>\n",
       "    </tr>\n",
       "    <tr>\n",
       "      <th>3</th>\n",
       "      <td>4</td>\n",
       "      <td>15701354</td>\n",
       "      <td>Boni</td>\n",
       "      <td>699</td>\n",
       "      <td>France</td>\n",
       "      <td>Female</td>\n",
       "      <td>39</td>\n",
       "      <td>1</td>\n",
       "      <td>0.00</td>\n",
       "      <td>2</td>\n",
       "      <td>0</td>\n",
       "      <td>0</td>\n",
       "      <td>93826.63</td>\n",
       "      <td>0</td>\n",
       "    </tr>\n",
       "    <tr>\n",
       "      <th>4</th>\n",
       "      <td>5</td>\n",
       "      <td>15737888</td>\n",
       "      <td>Mitchell</td>\n",
       "      <td>850</td>\n",
       "      <td>Spain</td>\n",
       "      <td>Female</td>\n",
       "      <td>43</td>\n",
       "      <td>2</td>\n",
       "      <td>125510.82</td>\n",
       "      <td>1</td>\n",
       "      <td>1</td>\n",
       "      <td>1</td>\n",
       "      <td>79084.10</td>\n",
       "      <td>0</td>\n",
       "    </tr>\n",
       "  </tbody>\n",
       "</table>\n",
       "</div>\n",
       "    <div class=\"colab-df-buttons\">\n",
       "\n",
       "  <div class=\"colab-df-container\">\n",
       "    <button class=\"colab-df-convert\" onclick=\"convertToInteractive('df-2e350221-8e78-47ed-8b0b-a31f9427876e')\"\n",
       "            title=\"Convert this dataframe to an interactive table.\"\n",
       "            style=\"display:none;\">\n",
       "\n",
       "  <svg xmlns=\"http://www.w3.org/2000/svg\" height=\"24px\" viewBox=\"0 -960 960 960\">\n",
       "    <path d=\"M120-120v-720h720v720H120Zm60-500h600v-160H180v160Zm220 220h160v-160H400v160Zm0 220h160v-160H400v160ZM180-400h160v-160H180v160Zm440 0h160v-160H620v160ZM180-180h160v-160H180v160Zm440 0h160v-160H620v160Z\"/>\n",
       "  </svg>\n",
       "    </button>\n",
       "\n",
       "  <style>\n",
       "    .colab-df-container {\n",
       "      display:flex;\n",
       "      gap: 12px;\n",
       "    }\n",
       "\n",
       "    .colab-df-convert {\n",
       "      background-color: #E8F0FE;\n",
       "      border: none;\n",
       "      border-radius: 50%;\n",
       "      cursor: pointer;\n",
       "      display: none;\n",
       "      fill: #1967D2;\n",
       "      height: 32px;\n",
       "      padding: 0 0 0 0;\n",
       "      width: 32px;\n",
       "    }\n",
       "\n",
       "    .colab-df-convert:hover {\n",
       "      background-color: #E2EBFA;\n",
       "      box-shadow: 0px 1px 2px rgba(60, 64, 67, 0.3), 0px 1px 3px 1px rgba(60, 64, 67, 0.15);\n",
       "      fill: #174EA6;\n",
       "    }\n",
       "\n",
       "    .colab-df-buttons div {\n",
       "      margin-bottom: 4px;\n",
       "    }\n",
       "\n",
       "    [theme=dark] .colab-df-convert {\n",
       "      background-color: #3B4455;\n",
       "      fill: #D2E3FC;\n",
       "    }\n",
       "\n",
       "    [theme=dark] .colab-df-convert:hover {\n",
       "      background-color: #434B5C;\n",
       "      box-shadow: 0px 1px 3px 1px rgba(0, 0, 0, 0.15);\n",
       "      filter: drop-shadow(0px 1px 2px rgba(0, 0, 0, 0.3));\n",
       "      fill: #FFFFFF;\n",
       "    }\n",
       "  </style>\n",
       "\n",
       "    <script>\n",
       "      const buttonEl =\n",
       "        document.querySelector('#df-2e350221-8e78-47ed-8b0b-a31f9427876e button.colab-df-convert');\n",
       "      buttonEl.style.display =\n",
       "        google.colab.kernel.accessAllowed ? 'block' : 'none';\n",
       "\n",
       "      async function convertToInteractive(key) {\n",
       "        const element = document.querySelector('#df-2e350221-8e78-47ed-8b0b-a31f9427876e');\n",
       "        const dataTable =\n",
       "          await google.colab.kernel.invokeFunction('convertToInteractive',\n",
       "                                                    [key], {});\n",
       "        if (!dataTable) return;\n",
       "\n",
       "        const docLinkHtml = 'Like what you see? Visit the ' +\n",
       "          '<a target=\"_blank\" href=https://colab.research.google.com/notebooks/data_table.ipynb>data table notebook</a>'\n",
       "          + ' to learn more about interactive tables.';\n",
       "        element.innerHTML = '';\n",
       "        dataTable['output_type'] = 'display_data';\n",
       "        await google.colab.output.renderOutput(dataTable, element);\n",
       "        const docLink = document.createElement('div');\n",
       "        docLink.innerHTML = docLinkHtml;\n",
       "        element.appendChild(docLink);\n",
       "      }\n",
       "    </script>\n",
       "  </div>\n",
       "\n",
       "\n",
       "<div id=\"df-a86e7fa5-e0ba-4f8f-a007-833b7c9dfb4f\">\n",
       "  <button class=\"colab-df-quickchart\" onclick=\"quickchart('df-a86e7fa5-e0ba-4f8f-a007-833b7c9dfb4f')\"\n",
       "            title=\"Suggest charts.\"\n",
       "            style=\"display:none;\">\n",
       "\n",
       "<svg xmlns=\"http://www.w3.org/2000/svg\" height=\"24px\"viewBox=\"0 0 24 24\"\n",
       "     width=\"24px\">\n",
       "    <g>\n",
       "        <path d=\"M19 3H5c-1.1 0-2 .9-2 2v14c0 1.1.9 2 2 2h14c1.1 0 2-.9 2-2V5c0-1.1-.9-2-2-2zM9 17H7v-7h2v7zm4 0h-2V7h2v10zm4 0h-2v-4h2v4z\"/>\n",
       "    </g>\n",
       "</svg>\n",
       "  </button>\n",
       "\n",
       "<style>\n",
       "  .colab-df-quickchart {\n",
       "      --bg-color: #E8F0FE;\n",
       "      --fill-color: #1967D2;\n",
       "      --hover-bg-color: #E2EBFA;\n",
       "      --hover-fill-color: #174EA6;\n",
       "      --disabled-fill-color: #AAA;\n",
       "      --disabled-bg-color: #DDD;\n",
       "  }\n",
       "\n",
       "  [theme=dark] .colab-df-quickchart {\n",
       "      --bg-color: #3B4455;\n",
       "      --fill-color: #D2E3FC;\n",
       "      --hover-bg-color: #434B5C;\n",
       "      --hover-fill-color: #FFFFFF;\n",
       "      --disabled-bg-color: #3B4455;\n",
       "      --disabled-fill-color: #666;\n",
       "  }\n",
       "\n",
       "  .colab-df-quickchart {\n",
       "    background-color: var(--bg-color);\n",
       "    border: none;\n",
       "    border-radius: 50%;\n",
       "    cursor: pointer;\n",
       "    display: none;\n",
       "    fill: var(--fill-color);\n",
       "    height: 32px;\n",
       "    padding: 0;\n",
       "    width: 32px;\n",
       "  }\n",
       "\n",
       "  .colab-df-quickchart:hover {\n",
       "    background-color: var(--hover-bg-color);\n",
       "    box-shadow: 0 1px 2px rgba(60, 64, 67, 0.3), 0 1px 3px 1px rgba(60, 64, 67, 0.15);\n",
       "    fill: var(--button-hover-fill-color);\n",
       "  }\n",
       "\n",
       "  .colab-df-quickchart-complete:disabled,\n",
       "  .colab-df-quickchart-complete:disabled:hover {\n",
       "    background-color: var(--disabled-bg-color);\n",
       "    fill: var(--disabled-fill-color);\n",
       "    box-shadow: none;\n",
       "  }\n",
       "\n",
       "  .colab-df-spinner {\n",
       "    border: 2px solid var(--fill-color);\n",
       "    border-color: transparent;\n",
       "    border-bottom-color: var(--fill-color);\n",
       "    animation:\n",
       "      spin 1s steps(1) infinite;\n",
       "  }\n",
       "\n",
       "  @keyframes spin {\n",
       "    0% {\n",
       "      border-color: transparent;\n",
       "      border-bottom-color: var(--fill-color);\n",
       "      border-left-color: var(--fill-color);\n",
       "    }\n",
       "    20% {\n",
       "      border-color: transparent;\n",
       "      border-left-color: var(--fill-color);\n",
       "      border-top-color: var(--fill-color);\n",
       "    }\n",
       "    30% {\n",
       "      border-color: transparent;\n",
       "      border-left-color: var(--fill-color);\n",
       "      border-top-color: var(--fill-color);\n",
       "      border-right-color: var(--fill-color);\n",
       "    }\n",
       "    40% {\n",
       "      border-color: transparent;\n",
       "      border-right-color: var(--fill-color);\n",
       "      border-top-color: var(--fill-color);\n",
       "    }\n",
       "    60% {\n",
       "      border-color: transparent;\n",
       "      border-right-color: var(--fill-color);\n",
       "    }\n",
       "    80% {\n",
       "      border-color: transparent;\n",
       "      border-right-color: var(--fill-color);\n",
       "      border-bottom-color: var(--fill-color);\n",
       "    }\n",
       "    90% {\n",
       "      border-color: transparent;\n",
       "      border-bottom-color: var(--fill-color);\n",
       "    }\n",
       "  }\n",
       "</style>\n",
       "\n",
       "  <script>\n",
       "    async function quickchart(key) {\n",
       "      const quickchartButtonEl =\n",
       "        document.querySelector('#' + key + ' button');\n",
       "      quickchartButtonEl.disabled = true;  // To prevent multiple clicks.\n",
       "      quickchartButtonEl.classList.add('colab-df-spinner');\n",
       "      try {\n",
       "        const charts = await google.colab.kernel.invokeFunction(\n",
       "            'suggestCharts', [key], {});\n",
       "      } catch (error) {\n",
       "        console.error('Error during call to suggestCharts:', error);\n",
       "      }\n",
       "      quickchartButtonEl.classList.remove('colab-df-spinner');\n",
       "      quickchartButtonEl.classList.add('colab-df-quickchart-complete');\n",
       "    }\n",
       "    (() => {\n",
       "      let quickchartButtonEl =\n",
       "        document.querySelector('#df-a86e7fa5-e0ba-4f8f-a007-833b7c9dfb4f button');\n",
       "      quickchartButtonEl.style.display =\n",
       "        google.colab.kernel.accessAllowed ? 'block' : 'none';\n",
       "    })();\n",
       "  </script>\n",
       "</div>\n",
       "    </div>\n",
       "  </div>\n"
      ],
      "text/plain": [
       "   RowNumber  CustomerId   Surname  CreditScore Geography  Gender  Age  \\\n",
       "0          1    15634602  Hargrave          619    France  Female   42   \n",
       "1          2    15647311      Hill          608     Spain  Female   41   \n",
       "2          3    15619304      Onio          502    France  Female   42   \n",
       "3          4    15701354      Boni          699    France  Female   39   \n",
       "4          5    15737888  Mitchell          850     Spain  Female   43   \n",
       "\n",
       "   Tenure    Balance  NumOfProducts  HasCrCard  IsActiveMember  \\\n",
       "0       2       0.00              1          1               1   \n",
       "1       1   83807.86              1          0               1   \n",
       "2       8  159660.80              3          1               0   \n",
       "3       1       0.00              2          0               0   \n",
       "4       2  125510.82              1          1               1   \n",
       "\n",
       "   EstimatedSalary  Exited  \n",
       "0        101348.88       1  \n",
       "1        112542.58       0  \n",
       "2        113931.57       1  \n",
       "3         93826.63       0  \n",
       "4         79084.10       0  "
      ]
     },
     "execution_count": 14,
     "metadata": {},
     "output_type": "execute_result"
    }
   ],
   "source": [
    "df.head()"
   ]
  },
  {
   "cell_type": "code",
   "execution_count": 15,
   "metadata": {
    "colab": {
     "base_uri": "https://localhost:8080/"
    },
    "id": "HHenHa9_ZSfP",
    "outputId": "534b97b7-2d01-4794-93ad-c062266fc2aa"
   },
   "outputs": [
    {
     "data": {
      "text/plain": [
       "(10000, 14)"
      ]
     },
     "execution_count": 15,
     "metadata": {},
     "output_type": "execute_result"
    }
   ],
   "source": [
    "df.shape"
   ]
  },
  {
   "cell_type": "code",
   "execution_count": 16,
   "metadata": {
    "colab": {
     "base_uri": "https://localhost:8080/"
    },
    "id": "gUQx3dWgZdrg",
    "outputId": "ec024dbf-b670-4bd1-e493-a6de8a1d75a4"
   },
   "outputs": [
    {
     "data": {
      "text/plain": [
       "RowNumber          0\n",
       "CustomerId         0\n",
       "Surname            0\n",
       "CreditScore        0\n",
       "Geography          0\n",
       "Gender             0\n",
       "Age                0\n",
       "Tenure             0\n",
       "Balance            0\n",
       "NumOfProducts      0\n",
       "HasCrCard          0\n",
       "IsActiveMember     0\n",
       "EstimatedSalary    0\n",
       "Exited             0\n",
       "dtype: int64"
      ]
     },
     "execution_count": 16,
     "metadata": {},
     "output_type": "execute_result"
    }
   ],
   "source": [
    "df.isnull().sum()"
   ]
  },
  {
   "cell_type": "code",
   "execution_count": 17,
   "metadata": {
    "colab": {
     "base_uri": "https://localhost:8080/"
    },
    "id": "uuXZc8wlZgr_",
    "outputId": "ef6f92bc-4543-4b72-8b2f-5ee0ebcbb5c5"
   },
   "outputs": [
    {
     "data": {
      "text/plain": [
       "0"
      ]
     },
     "execution_count": 17,
     "metadata": {},
     "output_type": "execute_result"
    }
   ],
   "source": [
    "df.duplicated().sum()"
   ]
  },
  {
   "cell_type": "code",
   "execution_count": 18,
   "metadata": {
    "colab": {
     "base_uri": "https://localhost:8080/"
    },
    "id": "dxUviJYhZmlp",
    "outputId": "fd4695ad-6820-45ba-c914-de073509b7fb"
   },
   "outputs": [
    {
     "name": "stdout",
     "output_type": "stream",
     "text": [
      "<class 'pandas.core.frame.DataFrame'>\n",
      "RangeIndex: 10000 entries, 0 to 9999\n",
      "Data columns (total 14 columns):\n",
      " #   Column           Non-Null Count  Dtype  \n",
      "---  ------           --------------  -----  \n",
      " 0   RowNumber        10000 non-null  int64  \n",
      " 1   CustomerId       10000 non-null  int64  \n",
      " 2   Surname          10000 non-null  object \n",
      " 3   CreditScore      10000 non-null  int64  \n",
      " 4   Geography        10000 non-null  object \n",
      " 5   Gender           10000 non-null  object \n",
      " 6   Age              10000 non-null  int64  \n",
      " 7   Tenure           10000 non-null  int64  \n",
      " 8   Balance          10000 non-null  float64\n",
      " 9   NumOfProducts    10000 non-null  int64  \n",
      " 10  HasCrCard        10000 non-null  int64  \n",
      " 11  IsActiveMember   10000 non-null  int64  \n",
      " 12  EstimatedSalary  10000 non-null  float64\n",
      " 13  Exited           10000 non-null  int64  \n",
      "dtypes: float64(2), int64(9), object(3)\n",
      "memory usage: 1.1+ MB\n"
     ]
    }
   ],
   "source": [
    "df.info()"
   ]
  },
  {
   "cell_type": "code",
   "execution_count": 19,
   "metadata": {
    "colab": {
     "base_uri": "https://localhost:8080/",
     "height": 442
    },
    "id": "gq46-gDvZs7u",
    "outputId": "c29e7cb0-976e-4609-b847-be193fdc6ca5"
   },
   "outputs": [
    {
     "data": {
      "text/plain": [
       "<Axes: >"
      ]
     },
     "execution_count": 19,
     "metadata": {},
     "output_type": "execute_result"
    },
    {
     "data": {
      "image/png": "[encoded data removed]",
      "text/plain": [
       "<Figure size 640x480 with 1 Axes>"
      ]
     },
     "metadata": {},
     "output_type": "display_data"
    }
   ],
   "source": [
    "df['Exited'].value_counts().plot(kind='bar')"
   ]
  },
  {
   "cell_type": "code",
   "execution_count": 20,
   "metadata": {
    "colab": {
     "base_uri": "https://localhost:8080/"
    },
    "id": "46K9o7e1xW0x",
    "outputId": "62e5679d-4c54-4d6f-cb6a-56071e9f6350"
   },
   "outputs": [
    {
     "name": "stdout",
     "output_type": "stream",
     "text": [
      "The Person is not Exited occurs in  79.63 % data\n"
     ]
    }
   ],
   "source": [
    "print('The Person is not Exited occurs in ',(len(df[df['Exited']==0])/df.shape[0])*100,'% data')"
   ]
  },
  {
   "cell_type": "markdown",
   "metadata": {
    "id": "tfOtrRATxQIU"
   },
   "source": [
    "It is an unbalanced dataset"
   ]
  },
  {
   "cell_type": "code",
   "execution_count": 21,
   "metadata": {
    "colab": {
     "base_uri": "https://localhost:8080/",
     "height": 524
    },
    "id": "m-is79sqcVzl",
    "outputId": "eebc7fb1-5c12-48b4-a198-7a2d5e370663"
   },
   "outputs": [
    {
     "data": {
      "text/plain": [
       "<seaborn.axisgrid.FacetGrid at 0x7f813108ace0>"
      ]
     },
     "execution_count": 21,
     "metadata": {},
     "output_type": "execute_result"
    },
    {
     "data": {
      "image/png": "[encoded data removed]",
      "text/plain": [
       "<Figure size 500x500 with 1 Axes>"
      ]
     },
     "metadata": {},
     "output_type": "display_data"
    }
   ],
   "source": [
    "sns.displot(df['CreditScore'],kde=True)"
   ]
  },
  {
   "cell_type": "code",
   "execution_count": 22,
   "metadata": {
    "colab": {
     "base_uri": "https://localhost:8080/"
    },
    "id": "4pci_hawdeiu",
    "outputId": "0e77c921-b7d6-4937-88dd-bfe2806c2db2"
   },
   "outputs": [
    {
     "name": "stdout",
     "output_type": "stream",
     "text": [
      "Skewness : -0.07160660820092675\n"
     ]
    }
   ],
   "source": [
    "print('Skewness :',df['CreditScore'].skew())"
   ]
  },
  {
   "cell_type": "code",
   "execution_count": 23,
   "metadata": {
    "colab": {
     "base_uri": "https://localhost:8080/",
     "height": 466
    },
    "id": "TDBk1AjfeBBb",
    "outputId": "91249fe7-6f17-4a66-de2d-3eb363afaf46"
   },
   "outputs": [
    {
     "data": {
      "text/plain": [
       "<Axes: xlabel='Age', ylabel='Count'>"
      ]
     },
     "execution_count": 23,
     "metadata": {},
     "output_type": "execute_result"
    },
    {
     "data": {
      "image/png": "[encoded data removed]",
      "text/plain": [
       "<Figure size 640x480 with 1 Axes>"
      ]
     },
     "metadata": {},
     "output_type": "display_data"
    }
   ],
   "source": [
    "sns.histplot(df['Age'])"
   ]
  },
  {
   "cell_type": "code",
   "execution_count": 24,
   "metadata": {
    "colab": {
     "base_uri": "https://localhost:8080/",
     "height": 497
    },
    "id": "R6-HuPa6eN2x",
    "outputId": "9d5cd513-8e35-42c9-85d4-d2dfe64c38c9"
   },
   "outputs": [
    {
     "data": {
      "text/plain": [
       "<Axes: >"
      ]
     },
     "execution_count": 24,
     "metadata": {},
     "output_type": "execute_result"
    },
    {
     "data": {
      "image/png": "[encoded data removed]",
      "text/plain": [
       "<Figure size 640x480 with 1 Axes>"
      ]
     },
     "metadata": {},
     "output_type": "display_data"
    }
   ],
   "source": [
    "df['Geography'].value_counts().plot(kind='bar')"
   ]
  },
  {
   "cell_type": "code",
   "execution_count": 25,
   "metadata": {
    "colab": {
     "base_uri": "https://localhost:8080/",
     "height": 483
    },
    "id": "Iuz7q6E5epHK",
    "outputId": "ce72f4a2-2b2e-492d-faf5-cca4c606a293"
   },
   "outputs": [
    {
     "data": {
      "text/plain": [
       "<Axes: >"
      ]
     },
     "execution_count": 25,
     "metadata": {},
     "output_type": "execute_result"
    },
    {
     "data": {
      "image/png": "[encoded data removed]",
      "text/plain": [
       "<Figure size 640x480 with 1 Axes>"
      ]
     },
     "metadata": {},
     "output_type": "display_data"
    }
   ],
   "source": [
    "df['Gender'].value_counts().plot(kind='bar')"
   ]
  },
  {
   "cell_type": "code",
   "execution_count": 26,
   "metadata": {
    "id": "Dav6rTaofH2r"
   },
   "outputs": [],
   "source": [
    "#France-0\n",
    "#Germany-1\n",
    "#Spain-2\n",
    "\n",
    "df['Geography']=df['Geography'].map({'France':0,'Germany':1,'Spain':2})\n"
   ]
  },
  {
   "cell_type": "code",
   "execution_count": 27,
   "metadata": {
    "id": "uHg1uVsNfx-p"
   },
   "outputs": [],
   "source": [
    "#Male-0\n",
    "#Female-1\n",
    "df['Gender']=df['Gender'].map({'Male':0,'Female':1})"
   ]
  },
  {
   "cell_type": "code",
   "execution_count": 28,
   "metadata": {
    "id": "0XpfhQvagD9r"
   },
   "outputs": [],
   "source": [
    "\n",
    "x=df.iloc[:,3:13]\n",
    "y=df.iloc[:,13]"
   ]
  },
  {
   "cell_type": "code",
   "execution_count": 29,
   "metadata": {
    "id": "lYdME4cyy4xq"
   },
   "outputs": [],
   "source": [
    "#Balancing the data\n",
    "from imblearn.over_sampling import SMOTE\n",
    "smote=SMOTE(sampling_strategy='minority')\n",
    "x_sm,y_sm=smote.fit_resample(x,y)"
   ]
  },
  {
   "cell_type": "code",
   "execution_count": 30,
   "metadata": {
    "id": "wrzOaMcyzGzA"
   },
   "outputs": [],
   "source": [
    "#train-test-split\n",
    "from sklearn.model_selection import train_test_split\n",
    "x_train,x_test,y_train,y_test=train_test_split(x_sm,y_sm,test_size=0.3)"
   ]
  },
  {
   "cell_type": "code",
   "execution_count": 31,
   "metadata": {
    "colab": {
     "base_uri": "https://localhost:8080/",
     "height": 442
    },
    "id": "dgauk2grzG1L",
    "outputId": "1ae251da-a09b-485d-8b35-7225cd481bcf"
   },
   "outputs": [
    {
     "data": {
      "text/plain": [
       "<Axes: >"
      ]
     },
     "execution_count": 31,
     "metadata": {},
     "output_type": "execute_result"
    },
    {
     "data": {
      "image/png": "[encoded data removed]",
      "text/plain": [
       "<Figure size 640x480 with 1 Axes>"
      ]
     },
     "metadata": {},
     "output_type": "display_data"
    }
   ],
   "source": [
    "y_sm.value_counts().plot(kind='bar')"
   ]
  },
  {
   "cell_type": "code",
   "execution_count": 31,
   "metadata": {
    "id": "PjVxUNtWzG8R"
   },
   "outputs": [],
   "source": []
  },
  {
   "cell_type": "code",
   "execution_count": 32,
   "metadata": {
    "id": "bVSAMp6ShODx"
   },
   "outputs": [],
   "source": [
    "#Scaling\n",
    "from sklearn.preprocessing import StandardScaler\n",
    "scaler=StandardScaler()\n",
    "x_train=scaler.fit_transform(x_train)\n",
    "x_test=scaler.transform(x_test)"
   ]
  },
  {
   "cell_type": "code",
   "execution_count": 33,
   "metadata": {
    "colab": {
     "base_uri": "https://localhost:8080/"
    },
    "id": "RJX7qGVAiEUE",
    "outputId": "5d9ede58-aad6-4521-af00-5e54a6cf36eb"
   },
   "outputs": [
    {
     "data": {
      "text/plain": [
       "(11148, 10)"
      ]
     },
     "execution_count": 33,
     "metadata": {},
     "output_type": "execute_result"
    }
   ],
   "source": [
    "x_train.shape"
   ]
  },
  {
   "cell_type": "code",
   "execution_count": 34,
   "metadata": {
    "colab": {
     "base_uri": "https://localhost:8080/"
    },
    "id": "IcHsN4cKibqM",
    "outputId": "98f9e408-9887-40e3-b5ca-ae06893dc527"
   },
   "outputs": [
    {
     "data": {
      "text/plain": [
       "(4778, 10)"
      ]
     },
     "execution_count": 34,
     "metadata": {},
     "output_type": "execute_result"
    }
   ],
   "source": [
    "x_test.shape"
   ]
  },
  {
   "cell_type": "code",
   "execution_count": 35,
   "metadata": {
    "id": "jFm831dwitnx"
   },
   "outputs": [],
   "source": [
    "#import ANN libaraies\n",
    "\n",
    "from tensorflow.keras.models import Sequential\n",
    "from tensorflow.keras.layers import Dense\n",
    "from tensorflow.keras.layers import LeakyReLU,PReLU,ELU\n",
    "from tensorflow.keras.layers import Dropout\n",
    "import tensorflow as tf\n"
   ]
  },
  {
   "cell_type": "code",
   "execution_count": 36,
   "metadata": {
    "id": "wbXj1bryjV9g"
   },
   "outputs": [],
   "source": [
    "classifier=Sequential()"
   ]
  },
  {
   "cell_type": "code",
   "execution_count": 37,
   "metadata": {
    "id": "M-rLNC5DjfG7"
   },
   "outputs": [],
   "source": [
    "# input layer\n",
    "classifier.add(Dense(units=11,activation='relu'))\n",
    "\n",
    "#Firsr hidden layer\n",
    "classifier.add(Dense(units=9,activation='relu'))\n",
    "\n",
    "#Second hidden layer\n",
    "classifier.add(Dense(units=6,activation='relu'))\n",
    "\n",
    "#output layer\n",
    "classifier.add(Dense(units=1,activation='sigmoid'))"
   ]
  },
  {
   "cell_type": "code",
   "execution_count": 38,
   "metadata": {
    "id": "SXkY6InTkrgB"
   },
   "outputs": [],
   "source": [
    "classifier.compile(optimizer='adam',loss='binary_crossentropy',metrics=['accuracy'])"
   ]
  },
  {
   "cell_type": "code",
   "execution_count": 39,
   "metadata": {
    "id": "cY442sUHnYWN"
   },
   "outputs": [],
   "source": [
    "#callback = tf.keras.callbacks.EarlyStopping(monitor='loss', patience=0)"
   ]
  },
  {
   "cell_type": "code",
   "execution_count": 40,
   "metadata": {
    "colab": {
     "base_uri": "https://localhost:8080/"
    },
    "id": "oUDmw6Tqk6kC",
    "outputId": "fbcfba67-e633-441c-dc61-968812616687"
   },
   "outputs": [
    {
     "name": "stdout",
     "output_type": "stream",
     "text": [
      "Epoch 1/50\n",
      "747/747 [==============================] - 5s 5ms/step - loss: 0.5990 - accuracy: 0.6575 - val_loss: 0.5173 - val_accuracy: 0.7491\n",
      "Epoch 2/50\n",
      "747/747 [==============================] - 3s 4ms/step - loss: 0.4976 - accuracy: 0.7559 - val_loss: 0.4810 - val_accuracy: 0.7622\n",
      "Epoch 3/50\n",
      "747/747 [==============================] - 2s 3ms/step - loss: 0.4727 - accuracy: 0.7705 - val_loss: 0.4604 - val_accuracy: 0.7790\n",
      "Epoch 4/50\n",
      "747/747 [==============================] - 2s 3ms/step - loss: 0.4556 - accuracy: 0.7823 - val_loss: 0.4499 - val_accuracy: 0.7877\n",
      "Epoch 5/50\n",
      "747/747 [==============================] - 3s 3ms/step - loss: 0.4446 - accuracy: 0.7889 - val_loss: 0.4403 - val_accuracy: 0.7915\n",
      "Epoch 6/50\n",
      "747/747 [==============================] - 3s 4ms/step - loss: 0.4377 - accuracy: 0.7960 - val_loss: 0.4368 - val_accuracy: 0.7929\n",
      "Epoch 7/50\n",
      "747/747 [==============================] - 3s 4ms/step - loss: 0.4318 - accuracy: 0.8017 - val_loss: 0.4298 - val_accuracy: 0.7980\n",
      "Epoch 8/50\n",
      "747/747 [==============================] - 2s 3ms/step - loss: 0.4258 - accuracy: 0.8057 - val_loss: 0.4247 - val_accuracy: 0.7983\n",
      "Epoch 9/50\n",
      "747/747 [==============================] - 3s 3ms/step - loss: 0.4216 - accuracy: 0.8069 - val_loss: 0.4186 - val_accuracy: 0.8024\n",
      "Epoch 10/50\n",
      "747/747 [==============================] - 2s 3ms/step - loss: 0.4171 - accuracy: 0.8088 - val_loss: 0.4150 - val_accuracy: 0.8029\n",
      "Epoch 11/50\n",
      "747/747 [==============================] - 3s 4ms/step - loss: 0.4138 - accuracy: 0.8122 - val_loss: 0.4157 - val_accuracy: 0.8078\n",
      "Epoch 12/50\n",
      "747/747 [==============================] - 3s 4ms/step - loss: 0.4109 - accuracy: 0.8140 - val_loss: 0.4097 - val_accuracy: 0.8057\n",
      "Epoch 13/50\n",
      "747/747 [==============================] - 2s 3ms/step - loss: 0.4082 - accuracy: 0.8162 - val_loss: 0.4073 - val_accuracy: 0.8138\n",
      "Epoch 14/50\n",
      "747/747 [==============================] - 2s 3ms/step - loss: 0.4067 - accuracy: 0.8168 - val_loss: 0.4045 - val_accuracy: 0.8122\n",
      "Epoch 15/50\n",
      "747/747 [==============================] - 2s 3ms/step - loss: 0.4050 - accuracy: 0.8176 - val_loss: 0.4076 - val_accuracy: 0.8084\n",
      "Epoch 16/50\n",
      "747/747 [==============================] - 2s 3ms/step - loss: 0.4034 - accuracy: 0.8167 - val_loss: 0.4025 - val_accuracy: 0.8146\n",
      "Epoch 17/50\n",
      "747/747 [==============================] - 4s 5ms/step - loss: 0.4016 - accuracy: 0.8213 - val_loss: 0.4041 - val_accuracy: 0.8092\n",
      "Epoch 18/50\n",
      "747/747 [==============================] - 2s 3ms/step - loss: 0.4005 - accuracy: 0.8202 - val_loss: 0.4039 - val_accuracy: 0.8092\n",
      "Epoch 19/50\n",
      "747/747 [==============================] - 2s 3ms/step - loss: 0.3997 - accuracy: 0.8193 - val_loss: 0.4014 - val_accuracy: 0.8160\n",
      "Epoch 20/50\n",
      "747/747 [==============================] - 2s 3ms/step - loss: 0.3983 - accuracy: 0.8186 - val_loss: 0.4011 - val_accuracy: 0.8152\n",
      "Epoch 21/50\n",
      "747/747 [==============================] - 2s 3ms/step - loss: 0.3979 - accuracy: 0.8209 - val_loss: 0.4017 - val_accuracy: 0.8149\n",
      "Epoch 22/50\n",
      "747/747 [==============================] - 3s 4ms/step - loss: 0.3975 - accuracy: 0.8162 - val_loss: 0.4036 - val_accuracy: 0.8124\n",
      "Epoch 23/50\n",
      "747/747 [==============================] - 3s 4ms/step - loss: 0.3965 - accuracy: 0.8194 - val_loss: 0.4016 - val_accuracy: 0.8154\n",
      "Epoch 24/50\n",
      "747/747 [==============================] - 2s 3ms/step - loss: 0.3953 - accuracy: 0.8213 - val_loss: 0.4059 - val_accuracy: 0.8095\n",
      "Epoch 25/50\n",
      "747/747 [==============================] - 2s 3ms/step - loss: 0.3958 - accuracy: 0.8190 - val_loss: 0.4024 - val_accuracy: 0.8133\n",
      "Epoch 26/50\n",
      "747/747 [==============================] - 2s 3ms/step - loss: 0.3946 - accuracy: 0.8207 - val_loss: 0.4043 - val_accuracy: 0.8108\n",
      "Epoch 27/50\n",
      "747/747 [==============================] - 2s 3ms/step - loss: 0.3938 - accuracy: 0.8230 - val_loss: 0.4011 - val_accuracy: 0.8173\n",
      "Epoch 28/50\n",
      "747/747 [==============================] - 4s 5ms/step - loss: 0.3933 - accuracy: 0.8193 - val_loss: 0.4037 - val_accuracy: 0.8144\n",
      "Epoch 29/50\n",
      "747/747 [==============================] - 2s 3ms/step - loss: 0.3921 - accuracy: 0.8218 - val_loss: 0.4176 - val_accuracy: 0.8103\n",
      "Epoch 30/50\n",
      "747/747 [==============================] - 2s 3ms/step - loss: 0.3922 - accuracy: 0.8199 - val_loss: 0.4042 - val_accuracy: 0.8144\n",
      "Epoch 31/50\n",
      "747/747 [==============================] - 2s 3ms/step - loss: 0.3914 - accuracy: 0.8211 - val_loss: 0.4071 - val_accuracy: 0.8046\n",
      "Epoch 32/50\n",
      "747/747 [==============================] - 2s 3ms/step - loss: 0.3903 - accuracy: 0.8237 - val_loss: 0.4046 - val_accuracy: 0.8124\n",
      "Epoch 33/50\n",
      "747/747 [==============================] - 3s 4ms/step - loss: 0.3904 - accuracy: 0.8221 - val_loss: 0.4030 - val_accuracy: 0.8114\n",
      "Epoch 34/50\n",
      "747/747 [==============================] - 3s 4ms/step - loss: 0.3893 - accuracy: 0.8242 - val_loss: 0.4058 - val_accuracy: 0.8048\n",
      "Epoch 35/50\n",
      "747/747 [==============================] - 2s 3ms/step - loss: 0.3891 - accuracy: 0.8243 - val_loss: 0.4025 - val_accuracy: 0.8133\n",
      "Epoch 36/50\n",
      "747/747 [==============================] - 2s 3ms/step - loss: 0.3879 - accuracy: 0.8243 - val_loss: 0.4132 - val_accuracy: 0.8100\n",
      "Epoch 37/50\n",
      "747/747 [==============================] - 2s 3ms/step - loss: 0.3878 - accuracy: 0.8233 - val_loss: 0.4050 - val_accuracy: 0.8095\n",
      "Epoch 38/50\n",
      "747/747 [==============================] - 2s 3ms/step - loss: 0.3878 - accuracy: 0.8253 - val_loss: 0.4046 - val_accuracy: 0.8067\n",
      "Epoch 39/50\n",
      "747/747 [==============================] - 4s 5ms/step - loss: 0.3871 - accuracy: 0.8253 - val_loss: 0.4074 - val_accuracy: 0.8114\n",
      "Epoch 40/50\n",
      "747/747 [==============================] - 2s 3ms/step - loss: 0.3868 - accuracy: 0.8262 - val_loss: 0.4040 - val_accuracy: 0.8138\n",
      "Epoch 41/50\n",
      "747/747 [==============================] - 2s 3ms/step - loss: 0.3869 - accuracy: 0.8231 - val_loss: 0.4040 - val_accuracy: 0.8111\n",
      "Epoch 42/50\n",
      "747/747 [==============================] - 2s 3ms/step - loss: 0.3860 - accuracy: 0.8230 - val_loss: 0.4037 - val_accuracy: 0.8095\n",
      "Epoch 43/50\n",
      "747/747 [==============================] - 2s 3ms/step - loss: 0.3861 - accuracy: 0.8231 - val_loss: 0.4035 - val_accuracy: 0.8124\n",
      "Epoch 44/50\n",
      "747/747 [==============================] - 3s 5ms/step - loss: 0.3849 - accuracy: 0.8266 - val_loss: 0.4015 - val_accuracy: 0.8144\n",
      "Epoch 45/50\n",
      "747/747 [==============================] - 3s 4ms/step - loss: 0.3857 - accuracy: 0.8241 - val_loss: 0.3998 - val_accuracy: 0.8168\n",
      "Epoch 46/50\n",
      "747/747 [==============================] - 2s 3ms/step - loss: 0.3850 - accuracy: 0.8227 - val_loss: 0.4021 - val_accuracy: 0.8138\n",
      "Epoch 47/50\n",
      "747/747 [==============================] - 2s 3ms/step - loss: 0.3845 - accuracy: 0.8270 - val_loss: 0.4011 - val_accuracy: 0.8135\n",
      "Epoch 48/50\n",
      "747/747 [==============================] - 2s 3ms/step - loss: 0.3840 - accuracy: 0.8263 - val_loss: 0.4115 - val_accuracy: 0.8116\n",
      "Epoch 49/50\n",
      "747/747 [==============================] - 2s 3ms/step - loss: 0.3828 - accuracy: 0.8278 - val_loss: 0.4180 - val_accuracy: 0.8138\n",
      "Epoch 50/50\n",
      "747/747 [==============================] - 3s 4ms/step - loss: 0.3830 - accuracy: 0.8229 - val_loss: 0.4073 - val_accuracy: 0.8111\n"
     ]
    }
   ],
   "source": [
    "model=classifier.fit(x_train,y_train,validation_split=0.33,batch_size=10,epochs=50)"
   ]
  },
  {
   "cell_type": "code",
   "execution_count": 41,
   "metadata": {
    "colab": {
     "base_uri": "https://localhost:8080/"
    },
    "id": "jDNjAHNvpnB6",
    "outputId": "1ede8cb8-de8b-470b-f368-010f17ce5823"
   },
   "outputs": [
    {
     "name": "stdout",
     "output_type": "stream",
     "text": [
      "150/150 [==============================] - 0s 2ms/step\n"
     ]
    }
   ],
   "source": [
    "y_pred = classifier.predict(x_test)\n",
    "y_pred = (y_pred > 0.5)"
   ]
  },
  {
   "cell_type": "code",
   "execution_count": 42,
   "metadata": {
    "colab": {
     "base_uri": "https://localhost:8080/"
    },
    "id": "NmYosvYgpnHF",
    "outputId": "f3ac2f28-1542-4e0f-a59b-898dca2c8bb4"
   },
   "outputs": [
    {
     "data": {
      "text/plain": [
       "0.8070322310590206"
      ]
     },
     "execution_count": 42,
     "metadata": {},
     "output_type": "execute_result"
    }
   ],
   "source": [
    "from sklearn.metrics import accuracy_score\n",
    "score=accuracy_score(y_pred,y_test)\n",
    "score"
   ]
  },
  {
   "cell_type": "code",
   "execution_count": null,
   "metadata": {
    "id": "54VAg1HPNhk0"
   },
   "outputs": [],
   "source": [
    "#pickle file\n",
    "model=pickle.dump(classifie('keras2.pkl','wb')"
   ]
  }
 ],
 "metadata": {
  "accelerator": "TPU",
  "colab": {
   "authorship_tag": "ABX9TyMatVjgKwshj5Q4R9zdzEdS",
   "include_colab_link": true,
   "provenance": []
  },
  "kernelspec": {
   "display_name": "Python 3 (ipykernel)",
   "language": "python",
   "name": "python3"
  },
  "language_info": {
   "codemirror_mode": {
    "name": "ipython",
    "version": 3
   },
   "file_extension": ".py",
   "mimetype": "text/x-python",
   "name": "python",
   "nbconvert_exporter": "python",
   "pygments_lexer": "ipython3",
   "version": "3.11.4"
  }
 },
 "nbformat": 4,
 "nbformat_minor": 4
}
